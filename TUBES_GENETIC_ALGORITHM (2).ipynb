{
  "nbformat": 4,
  "nbformat_minor": 0,
  "metadata": {
    "colab": {
      "name": "TUBES GENETIC ALGORITHM",
      "provenance": [],
      "collapsed_sections": []
    },
    "kernelspec": {
      "name": "python3",
      "display_name": "Python 3"
    },
    "language_info": {
      "name": "python"
    }
  },
  "cells": [
    {
      "cell_type": "code",
      "metadata": {
        "id": "20EPKGuhbN62"
      },
      "source": [
        "pip install pandas"
      ],
      "execution_count": null,
      "outputs": []
    },
    {
      "cell_type": "code",
      "metadata": {
        "id": "YmhdyCZPcSuM"
      },
      "source": [
        "pip install numpy"
      ],
      "execution_count": null,
      "outputs": []
    },
    {
      "cell_type": "code",
      "metadata": {
        "id": "Nrd1bxNVcXM_"
      },
      "source": [
        "pip install seaborn as sns"
      ],
      "execution_count": null,
      "outputs": []
    },
    {
      "cell_type": "code",
      "metadata": {
        "id": "rGVHr-CVcdpU"
      },
      "source": [
        "import pandas as pd\n",
        "import numpy as np\n",
        "import random\n",
        "import matplotlib.pyplot as plt\n",
        "import seaborn as sns\n",
        "import copy\n",
        "import math"
      ],
      "execution_count": null,
      "outputs": []
    },
    {
      "cell_type": "code",
      "metadata": {
        "id": "agYPv4xCc7a-"
      },
      "source": [
        "from google.colab import drive\n",
        "drive.mount('/content/gdrive')"
      ],
      "execution_count": null,
      "outputs": []
    },
    {
      "cell_type": "code",
      "metadata": {
        "id": "TtAnh_93dYQ_"
      },
      "source": [
        "#import data\n",
        "data = pd.read_excel('/content/gdrive/MyDrive/Colab Notebooks/Close.xlsx')\n",
        "data.head(12)"
      ],
      "execution_count": null,
      "outputs": []
    },
    {
      "cell_type": "code",
      "metadata": {
        "id": "OWsCTlLVfmBD"
      },
      "source": [
        "#import data\n",
        "data = pd.read_excel('/content/gdrive/MyDrive/Colab Notebooks/open.xlsx')\n",
        "data.head(11)"
      ],
      "execution_count": null,
      "outputs": []
    },
    {
      "cell_type": "code",
      "metadata": {
        "id": "61gx35pUgQq5"
      },
      "source": [
        "#import data\n",
        "data = pd.read_excel('/content/gdrive/MyDrive/Colab Notebooks/Data Saham ACES.xlsx')\n",
        "data.head(120)"
      ],
      "execution_count": null,
      "outputs": []
    },
    {
      "cell_type": "markdown",
      "metadata": {
        "id": "OJZoBymRiH9S"
      },
      "source": [
        "**Inisialisasi Awal**"
      ]
    },
    {
      "cell_type": "code",
      "metadata": {
        "id": "rsRwREyngfYJ"
      },
      "source": [
        "uk_popul = 45\n",
        "uk_kromos= 11\n",
        "uk_tour = 10\n",
        "ia = 100\n",
        "ib = -100\n",
        "pc = 0,75\n",
        "pm = 0,65"
      ],
      "execution_count": null,
      "outputs": []
    },
    {
      "cell_type": "markdown",
      "metadata": {
        "id": "o6KBT03xiObU"
      },
      "source": [
        "**Dekode Kromosom**"
      ]
    },
    {
      "cell_type": "code",
      "metadata": {
        "id": "U__DR3U5gzVl"
      },
      "source": [
        "from random import randint\n",
        "def decodekrom(uk_kromos):\n",
        "    krom = []\n",
        "    for x in range (uk_kromos):\n",
        "        krom.append(randint(-100, 100))\n",
        "    return krom\n"
      ],
      "execution_count": null,
      "outputs": []
    },
    {
      "cell_type": "code",
      "metadata": {
        "id": "9uZqjgHIJvR-",
        "colab": {
          "base_uri": "https://localhost:8080/"
        },
        "outputId": "fe45db5c-8689-4de2-c8a7-5df187c70cc6"
      },
      "source": [
        "decodekrom(uk_kromos)"
      ],
      "execution_count": null,
      "outputs": [
        {
          "output_type": "execute_result",
          "data": {
            "text/plain": [
              "[-96, -13, 7, -40, -41, -22, -70, 60, -22, -1, -17]"
            ]
          },
          "metadata": {
            "tags": []
          },
          "execution_count": 3
        }
      ]
    },
    {
      "cell_type": "markdown",
      "metadata": {
        "id": "LIHwVIrUiSL3"
      },
      "source": [
        "**Generate Population**"
      ]
    },
    {
      "cell_type": "code",
      "metadata": {
        "id": "YLhn10g2JfdS"
      },
      "source": [
        "def populasi(uk_popul):\n",
        "  populasi = []\n",
        "  for i in range(uk_popul):\n",
        "    populasi.append(decodekrom(uk_kromos))\n",
        "  return populasi"
      ],
      "execution_count": null,
      "outputs": []
    },
    {
      "cell_type": "code",
      "metadata": {
        "id": "qd3BGmlXJ1ls",
        "colab": {
          "base_uri": "https://localhost:8080/"
        },
        "outputId": "e933a153-94dc-4ab7-e768-9f870ae89ce0"
      },
      "source": [
        "populasi(uk_popul)"
      ],
      "execution_count": null,
      "outputs": [
        {
          "output_type": "execute_result",
          "data": {
            "text/plain": [
              "[[-27, 44, -82, -90, -45, 52, 57, 20, 0, -62, 86],\n",
              " [-57, 88, 99, -86, -23, 100, 44, -48, 40, 5, 33],\n",
              " [-23, -15, -34, 60, -36, 79, -41, 2, -85, -39, 16],\n",
              " [57, -56, -88, 12, 91, -53, 88, -15, -51, 62, -64],\n",
              " [13, 5, 41, -23, -24, -45, -89, 57, -7, -84, -44],\n",
              " [97, -77, 87, -47, 51, -81, -65, -98, 73, -45, 51],\n",
              " [-28, 57, 12, 48, 77, -84, -21, -97, -31, -21, -78],\n",
              " [-75, -25, -4, -69, 33, 36, 90, -47, -2, 100, 72],\n",
              " [95, 24, 41, 41, -22, 9, -55, 14, -22, -17, 61],\n",
              " [16, 42, 23, 53, 50, -23, 83, 1, -26, 5, -62],\n",
              " [62, 28, -38, 61, -36, 35, 3, 56, -53, -22, -87],\n",
              " [20, 0, 68, -80, 95, -36, -39, 18, 35, -78, -54],\n",
              " [85, -20, -51, -10, -54, -70, -48, -31, 65, 18, -97],\n",
              " [-83, 7, -85, 5, 29, 23, -34, 79, -1, -3, 25],\n",
              " [-79, 43, -43, -75, 0, -98, -96, 82, 75, -71, -43],\n",
              " [65, 34, -39, 48, -31, 45, -6, -72, -53, 1, -54],\n",
              " [22, -35, 50, 15, -7, 67, 13, 75, -67, 1, -53],\n",
              " [-21, 51, -94, 86, -81, -58, -4, -32, -76, 88, -61],\n",
              " [-10, -2, 69, 55, 20, -29, 13, -57, -22, -63, 72],\n",
              " [21, 2, -71, -98, 15, 7, -27, 89, 17, -49, 11],\n",
              " [-31, 79, -34, -100, -11, -89, -79, 30, -84, -99, -40],\n",
              " [-39, -80, -70, 63, -82, -36, 74, -81, -60, 10, -85],\n",
              " [-48, -25, 11, -94, 25, 65, -30, 50, -11, 43, -46],\n",
              " [21, 82, 63, 97, 36, 77, 92, 7, -8, 20, -9],\n",
              " [-19, -12, -28, 77, -69, -46, 90, 28, -7, -29, 76],\n",
              " [90, -67, 56, -76, -53, -83, -50, -92, 49, 65, -4],\n",
              " [14, 93, 5, 85, 70, -41, -47, -50, 89, -76, -88],\n",
              " [-51, 97, -68, -36, -72, 66, -18, -9, 84, -69, 99],\n",
              " [-4, 16, -60, -47, -11, -8, -19, -92, -85, 71, -73],\n",
              " [49, -31, 87, 32, -37, -66, -28, -75, 26, 3, -8],\n",
              " [67, -5, -4, -56, -70, -43, 52, 76, -85, -56, -46],\n",
              " [89, 32, -95, 89, 7, -14, 63, 11, 73, -21, -6],\n",
              " [60, 100, 22, 17, 17, -14, -73, 25, 84, 8, -25],\n",
              " [-6, 12, -13, 67, 58, -91, 46, -86, -56, 73, 11],\n",
              " [47, 48, 15, 61, -96, -35, 62, -64, -3, -35, 100],\n",
              " [67, 48, -16, -54, -3, -78, -5, 48, 0, 12, -68],\n",
              " [98, -96, 71, 58, 36, -81, -1, 88, 100, 79, -91],\n",
              " [-5, 33, 75, -13, 70, -97, 14, -16, 20, 99, -69],\n",
              " [-85, 63, 63, 50, -79, 7, 90, -65, -19, 71, -73],\n",
              " [-11, 84, 64, -26, 85, -39, -37, 68, -14, 91, -3],\n",
              " [43, 43, 15, 85, 59, 81, -7, 43, 20, -58, 37],\n",
              " [-32, -81, -74, 58, 32, 74, -29, -32, -42, 82, 12],\n",
              " [23, -63, 5, -69, 26, 61, -91, -98, 51, 37, 60],\n",
              " [-39, -72, 97, -53, -67, 48, 19, -19, 94, 100, 53],\n",
              " [-35, 88, -40, -72, 17, -77, 41, 23, 100, -71, -40]]"
            ]
          },
          "metadata": {
            "tags": []
          },
          "execution_count": 5
        }
      ]
    },
    {
      "cell_type": "markdown",
      "metadata": {
        "id": "roiRbULtiahw"
      },
      "source": [
        "**Nilai Fitness**"
      ]
    },
    {
      "cell_type": "code",
      "metadata": {
        "id": "HZ0g8QTYKdfn"
      },
      "source": [
        "import math\n",
        "def fitness(kromosom):\n",
        "  y1 = 1653181818\n",
        "  y2 = 1654090909\n",
        "  y3 = 1655000000\n",
        "  y4 = 1652272727\n",
        "  y5 = 1646818182\n",
        "  y6 = 1643636364\n",
        "  y7 = 1633181818\n",
        "  y8 = 1620909091\n",
        "  y9 = 1607272727\n",
        "  y10 = 1595909091\n",
        "  \n",
        "  a = decodekrom(uk_kromos)\n",
        "  yi_tot = []\n",
        "  yi_tot = a[0]+ (a[1] * y1) + (a[2] * y2) + (a[3] * y3) + (a[4] * y4) + (a[5] * y5) + (a[6] * y6) + (a[7] * y7) + (a[8] * y8) + (a[9] * y9) + (a[10] * y10)\n",
        "  sygma = ((y1-yi_tot)+(y2-yi_tot)+(y3-yi_tot)+(y4-yi_tot)+(y5-yi_tot)+(y6-yi_tot)+(y7-yi_tot)+(y8-yi_tot)+(y9-yi_tot)+(y10-yi_tot)**2)\n",
        "  mse = (1/uk_popul) * math.sqrt(sygma)\n",
        "  fit = 1/mse\n",
        "  return fit"
      ],
      "execution_count": null,
      "outputs": []
    },
    {
      "cell_type": "code",
      "metadata": {
        "id": "yv80VPAkWgOx"
      },
      "source": [
        "fitness(a)"
      ],
      "execution_count": null,
      "outputs": []
    },
    {
      "cell_type": "markdown",
      "metadata": {
        "id": "_mD43HHkid2k"
      },
      "source": [
        "**Parent Selection**"
      ]
    },
    {
      "cell_type": "code",
      "metadata": {
        "id": "WX3jJP0nRHHk"
      },
      "source": [
        "def tournamentselect(uk_tour):\n",
        "  best=[]\n",
        "  for i in range(1, uk_tour):\n",
        "    krom = uk_kromos[random.randint(0, 10)]\n",
        "    if ((best == []) or fitness(krom) > fitness(best)):\n",
        "      best = krom\n",
        "  return best\n",
        "\n"
      ],
      "execution_count": null,
      "outputs": []
    },
    {
      "cell_type": "markdown",
      "metadata": {
        "id": "8ElGAYOfineP"
      },
      "source": [
        "**Cross Over**"
      ]
    },
    {
      "cell_type": "code",
      "metadata": {
        "id": "8lBI8aBOWMkQ"
      },
      "source": [
        "def crossover(parent1, parent2, pc):\n",
        "  r = random.random()\n",
        "  if (r<pc):\n",
        "    randompoint = random.randint(0, uk_kromos-1)\n",
        "    for i in range(randompoint):\n",
        "      c1 = parent1[i] + (randompoint * (parent2[i]-parent1[i]))\n",
        "      c2 = parent2[i] + (randompoint *(parent1[i]-parent2[i]))\n",
        "    return c1, c2\n",
        "  return parent1, parent2"
      ],
      "execution_count": null,
      "outputs": []
    },
    {
      "cell_type": "markdown",
      "metadata": {
        "id": "Ss2mvuIQirGA"
      },
      "source": [
        "**Mutasi**"
      ]
    },
    {
      "cell_type": "code",
      "metadata": {
        "id": "1Cvjxd42Y-QT"
      },
      "source": [
        "import random\n",
        "def mutasi(krom, pm, uk_kromos):\n",
        "  r = random.random()\n",
        "  if (r<pm):\n",
        "    idxrand = random.randint(0, uk_kromos-1)\n",
        "    if krom[idxrand] == 1:\n",
        "      krom[idxrand]=0\n",
        "    else:\n",
        "      krom[idxrand]=1\n",
        "  return krom"
      ],
      "execution_count": null,
      "outputs": []
    },
    {
      "cell_type": "markdown",
      "metadata": {
        "id": "pFGU8GFFitxh"
      },
      "source": [
        "**Pergantian Generasi**"
      ]
    },
    {
      "cell_type": "code",
      "metadata": {
        "id": "eU0SUJvKjAL5"
      },
      "source": [
        "import operator\n",
        "def elitism(fitness):\n",
        "  return fitness.index(max(fit))"
      ],
      "execution_count": null,
      "outputs": []
    },
    {
      "cell_type": "code",
      "metadata": {
        "id": "kBuxZMK19PuD"
      },
      "source": [
        "def tukargenerasi(popsekarang):\n",
        "    new_population = []\n",
        "    while len(new_population) < uk_popul:\n",
        "        parent1 =  tournamentselect(uk_tour)\n",
        "        parent2 =  tournamentselect(uk_tour)\n",
        "        parent1 = list(parent1)\n",
        "        parent2 = list(parent2)\n",
        "        c1, c2 = crossover(parent1,parent2,pc)\n",
        "        mutasi(c1, pm)\n",
        "        mutasi(c2, pm)\n",
        "        new_population.append(c1)\n",
        "        new_population.append(c2)\n",
        "    newpopulation.append(elitism(popsekarang))\n",
        "    return newpopulation"
      ],
      "execution_count": null,
      "outputs": []
    },
    {
      "cell_type": "markdown",
      "metadata": {
        "id": "8bl0bPX7izVa"
      },
      "source": [
        "**Main Program**"
      ]
    },
    {
      "cell_type": "code",
      "metadata": {
        "id": "PpUZkvMmIBHc"
      },
      "source": [
        "best_fit = []\n",
        "x = populasi(uk_popul)\n",
        "hari = 50\n",
        "\n",
        "i = 0\n",
        "while i <= hari:\n",
        "  i = i+1\n",
        "  x = tukargenerasi(x)\n",
        "  best_fit.append(elitism(x))\n",
        "  print(\"Pada hari ke-\", i , \" dengan kromosom terbaik: \", decodekrom(uk_kromos), \" memiliki prediksi saham sebesar \", elitism(x))\n",
        "\n"
      ],
      "execution_count": null,
      "outputs": []
    },
    {
      "cell_type": "code",
      "metadata": {
        "id": "nOLBzS3aG-vD"
      },
      "source": [
        ""
      ],
      "execution_count": null,
      "outputs": []
    }
  ]
}